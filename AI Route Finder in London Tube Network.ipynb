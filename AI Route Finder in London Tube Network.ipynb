{
 "cells": [
  {
   "cell_type": "code",
   "execution_count": 1,
   "metadata": {},
   "outputs": [],
   "source": [
    "from collections import defaultdict, deque\n",
    "import heapq"
   ]
  },
  {
   "cell_type": "code",
   "execution_count": 2,
   "metadata": {},
   "outputs": [],
   "source": [
    "import pandas as pd\n",
    "from collections import defaultdict\n",
    "\n",
    "\n",
    "df = pd.read_csv('tubedata.csv', header=None)\n",
    "\n",
    "station_dict = defaultdict(list)\n",
    "zone_dict = defaultdict(set)\n",
    "line_dict = defaultdict(set)  \n",
    "\n",
    "\n",
    "for index, row in df.iterrows():\n",
    "    start_station = row[0]\n",
    "    end_station = row[1]\n",
    "    act_cost = int(row[3])\n",
    "    zone1 = row[4]\n",
    "    zone2 = row[5]\n",
    "    line = row[2]\n",
    "\n",
    "    \n",
    "    station_dict[start_station].append((end_station, act_cost, line))\n",
    "    station_dict[end_station].append((start_station, act_cost, line))\n",
    "\n",
    "    \n",
    "    zone_dict[start_station].add(zone1)\n",
    "    if zone2 != \"0\":\n",
    "        zone_dict[start_station].add(zone2)\n",
    "        zone_dict[end_station].add(zone2)\n",
    "    else:\n",
    "        zone_dict[end_station].add(zone1)\n",
    "\n",
    "    \n",
    "    line_dict[start_station].add(line)\n",
    "    line_dict[end_station].add(line)\n"
   ]
  },
  {
   "cell_type": "markdown",
   "metadata": {},
   "source": [
    "Implement DFS, BFS and UCS"
   ]
  },
  {
   "cell_type": "code",
   "execution_count": 3,
   "metadata": {},
   "outputs": [
    {
     "name": "stdout",
     "output_type": "stream",
     "text": [
      "Route: ['Baker Street', 'Finchley Road', 'Wembley Park']\n",
      "Total Average Time Taken: 13\n",
      "nodes_explored 47\n"
     ]
    }
   ],
   "source": [
    "def bfs(first, last):\n",
    "    explored = set()\n",
    "    queue_bfs = deque([([first], 0)]) \n",
    "    counter_visited=0\n",
    "\n",
    "    while queue_bfs: # we will continue to search until there is no nodes to explore\n",
    "        path, total_time = queue_bfs.popleft()\n",
    "        node = path[-1]\n",
    "    \n",
    "        if node == last:\n",
    "            return path, total_time,counter_visited\n",
    "\n",
    "        if node not in explored:\n",
    "            explored.add(node)\n",
    "            neighbours = station_dict[node]\n",
    "\n",
    "            for neighbour, time,line in neighbours:\n",
    "                if neighbour not in path:  \n",
    "                    new_path = list(path)\n",
    "                    new_path.append(neighbour)\n",
    "                    new_time = total_time + time\n",
    "                    counter_visited=counter_visited+1\n",
    "                    queue_bfs.append((new_path, new_time))\n",
    "\n",
    "    return \"No path found.\", 0\n",
    "\n",
    "\n",
    "first_station = \"Baker Street\"\n",
    "end_station = \"Wembley Park\"\n",
    "route, time_taken,nodes_visited = bfs(first_station, end_station)\n",
    "print(\"Route:\", route)\n",
    "print(\"Total Average Time Taken:\", time_taken) \n",
    "print(\"nodes_explored\",nodes_visited) "
   ]
  },
  {
   "cell_type": "code",
   "execution_count": 4,
   "metadata": {},
   "outputs": [
    {
     "name": "stdout",
     "output_type": "stream",
     "text": [
      "Route: ['Baker Street', 'Finchley Road', 'Wembley Park']\n",
      "Total Average Time Taken: 13\n",
      "nodes_explored 13\n"
     ]
    }
   ],
   "source": [
    "def dfs(first, last):\n",
    "    explored = set()\n",
    "    stack = [([first], 0)]  \n",
    "    counter=0\n",
    "    while stack:\n",
    "        path, total_time = stack.pop()\n",
    "        node = path[-1]\n",
    "\n",
    "        if node == last:\n",
    "            return path, total_time,counter\n",
    "\n",
    "        if node not in explored:\n",
    "            explored.add(node)\n",
    "            neighbours = station_dict[node]\n",
    "\n",
    "            for neighbour, time,line in neighbours:\n",
    "                if neighbour not in path:  # Avoid loops\n",
    "                    new_path = list(path)\n",
    "                    new_path.append(neighbour)\n",
    "                    new_time = total_time + time\n",
    "                    counter=counter+1\n",
    "                    stack.append((new_path, new_time))\n",
    "\n",
    "    return \"No path found.\", 0\n",
    "\n",
    "\n",
    "first_station = \"Baker Street\"\n",
    "end_station = \"Wembley Park\"\n",
    "route, time_taken,nodes_visited = dfs(first_station, end_station)\n",
    "print(\"Route:\", route)\n",
    "print(\"Total Average Time Taken:\", time_taken)\n",
    "print(\"nodes_explored\",nodes_visited) "
   ]
  },
  {
   "cell_type": "code",
   "execution_count": 5,
   "metadata": {},
   "outputs": [
    {
     "name": "stdout",
     "output_type": "stream",
     "text": [
      "Route: ['Baker Street', 'Finchley Road', 'Wembley Park']\n",
      "Total Average Time Taken: 13\n",
      "nodes_explored 165\n"
     ]
    }
   ],
   "source": [
    "def ucs(first,last):\n",
    "    visited = set()\n",
    "    ucs_priority_queue = []\n",
    "    heapq.heappush(ucs_priority_queue, (0, [first]))  \n",
    "    counter=0\n",
    "\n",
    "    while ucs_priority_queue:\n",
    "        cost, path = heapq.heappop(ucs_priority_queue)\n",
    "        node = path[-1]\n",
    "\n",
    "        if node ==last:\n",
    "            return path, cost,counter\n",
    "\n",
    "        if node not in visited:\n",
    "            visited.add(node)\n",
    "\n",
    "            for neighbour, edge_cost,line in station_dict[node]:\n",
    "                if neighbour not in visited:\n",
    "                    new_path = list(path)\n",
    "                    new_path.append(neighbour)\n",
    "                    new_cost = cost + edge_cost\n",
    "                    counter=counter+1\n",
    "                    heapq.heappush(ucs_priority_queue, (new_cost, new_path))\n",
    "\n",
    "    return \"No path found.\", 0\n",
    "\n",
    "\n",
    "first_station = \"Baker Street\"\n",
    "end_station = \"Wembley Park\"\n",
    "route, time_taken,nodes_visited = ucs(first_station, end_station)\n",
    "print(\"Route:\", route)\n",
    "print(\"Total Average Time Taken:\", time_taken)\n",
    "print(\"nodes_explored\",nodes_visited) "
   ]
  },
  {
   "cell_type": "code",
   "execution_count": 6,
   "metadata": {},
   "outputs": [
    {
     "name": "stdout",
     "output_type": "stream",
     "text": [
      "Route: ['Canada Water', 'Canary Wharf', 'North Greenwich', 'Canning Town', 'West Ham', 'Stratford']\n",
      "Total Average Time Taken: 15\n"
     ]
    }
   ],
   "source": [
    "def ucs_with_line_change(first, last, line_change_cost):\n",
    "    visited = set()\n",
    "    priority_queue = []\n",
    "    heapq.heappush(priority_queue, (0, [first], \"\")) \n",
    "\n",
    "    while priority_queue:\n",
    "        cost, path, current_line = heapq.heappop(priority_queue)\n",
    "        node = path[-1]\n",
    "\n",
    "        if node == last:\n",
    "            return path, cost\n",
    "\n",
    "        if node not in visited:\n",
    "            visited.add(node)\n",
    "\n",
    "            for neighbour, edge_cost, line in station_dict[node]:\n",
    "                if neighbour not in visited:\n",
    "                    new_path = list(path)\n",
    "                    new_path.append(neighbour)\n",
    "                    new_cost = cost + edge_cost\n",
    "\n",
    "                    \n",
    "                    if current_line and line != current_line:\n",
    "                        new_cost += line_change_cost\n",
    "\n",
    "                    heapq.heappush(priority_queue, (new_cost, new_path, line))\n",
    "\n",
    "    return \"No path found.\", 0\n",
    "\n",
    "\n",
    "first_station = \"Canada Water\"\n",
    "end_station = \"Stratford\"\n",
    "route, time_taken = ucs_with_line_change(first_station, end_station,2)\n",
    "print(\"Route:\", route)\n",
    "print(\"Total Average Time Taken:\", time_taken)"
   ]
  },
  {
   "cell_type": "code",
   "execution_count": 7,
   "metadata": {},
   "outputs": [],
   "source": [
    "# print(station_dict[\"Victoria\"])"
   ]
  },
  {
   "cell_type": "markdown",
   "metadata": {},
   "source": [
    " Heuristic search"
   ]
  },
  {
   "cell_type": "code",
   "execution_count": 13,
   "metadata": {},
   "outputs": [
    {
     "name": "stdout",
     "output_type": "stream",
     "text": [
      "Route Found: ['Canada Water', 'Bermondsey', 'London Bridge', 'Bank/Monument', 'Liverpool Street', 'Bethnal Green', 'Mile End', 'Stratford']\n",
      "Heuristic cost (including zone cost): 18\n"
     ]
    }
   ],
   "source": [
    "def zone_cost(current_station, last_station, zone_dict):\n",
    "    # Implement your zone-based heuristic logic here.\n",
    "    # For example, higher cost for more zone differences.\n",
    "    return abs(int(min(list(zone_dict[current_station])))) - (int(min(list(zone_dict[last_station])))) * 1\n",
    "\n",
    "def best_first_search(first, last, station_dict, line_dict, zone_dict):\n",
    "    visited = set()\n",
    "    priority_queue = [(zone_cost(first, last, zone_dict), 0, first, [first])]\n",
    "\n",
    "    while priority_queue:\n",
    "        _, current_cost, current_station, path = heapq.heappop(priority_queue)\n",
    "\n",
    "        if current_station == last:\n",
    "            return path, current_cost\n",
    "\n",
    "        if current_station not in visited:\n",
    "            visited.add(current_station)\n",
    "            for neighbour, edge_cost, _ in station_dict[current_station]:\n",
    "                if neighbour not in visited:\n",
    "                    new_path = path + [neighbour]\n",
    "                    new_cost = current_cost + edge_cost\n",
    "                    h_value = zone_cost(neighbour, last, zone_dict)\n",
    "                    heapq.heappush(priority_queue, (h_value, new_cost, neighbour, new_path))\n",
    "\n",
    "    return [], 0\n",
    "\n",
    "# Example usage\n",
    "first_station = \"Canada Water\"\n",
    "end_station = \"Stratford\"\n",
    "\n",
    "# Assume zone_dict is defined, mapping stations to their zones\n",
    "found_path, total_time_taken = best_first_search(first_station, end_station, station_dict, line_dict, zone_dict)\n",
    "print(\"Route Found:\", found_path)\n",
    "print(\"Heuristic cost (including zone cost):\", total_time_taken)\n"
   ]
  },
  {
   "cell_type": "markdown",
   "metadata": {},
   "source": [
    "Genetic  Algorithm"
   ]
  },
  {
   "cell_type": "code",
   "execution_count": 9,
   "metadata": {},
   "outputs": [
    {
     "name": "stdout",
     "output_type": "stream",
     "text": [
      "8YLA8CUGJ0\n"
     ]
    },
    {
     "data": {
      "text/plain": [
       "{'2Q4HHHHOTJ': 0.5076474358311912, '2HHZQYUOTJ': 0.49891385390503706}"
      ]
     },
     "execution_count": 9,
     "metadata": {},
     "output_type": "execute_result"
    }
   ],
   "source": [
    "import math\n",
    "import hashlib\n",
    "import string\n",
    "\n",
    "def get_password(student_username, l=10):\n",
    "  \n",
    "    options = string.digits + string.ascii_uppercase  + \"_\"\n",
    "\n",
    "    h = hashlib.sha256((\"ECS759P-AI\"+student_username).encode(\"utf-8\"))\n",
    "    d = h.digest()\n",
    "    s = \"\"\n",
    "    for n in d:\n",
    "      s += options[n%len(options)]\n",
    "\n",
    "    return s[0:l]\n",
    "\n",
    "\n",
    "student_password = get_password('ec23728')\n",
    "print(student_password)\n",
    "\n",
    "\n",
    "def distance_function(string_one, string_two):\n",
    "    score = 0\n",
    "    for i, j in zip(string_one, string_two):\n",
    "        \n",
    "        score += math.sqrt(abs(ord(i) - ord(j)))\n",
    "    return score\n",
    "\n",
    "\n",
    "MAX_VALUE = distance_function('0000000000', '__________')\n",
    "\n",
    "def get_normalised_fitness(list_of_phrases, student_password):\n",
    "    ordered_dict = dict()\n",
    "    phrase_to_find = student_password\n",
    "    for phrase in list_of_phrases:\n",
    "        ordered_dict[phrase] = 1 - distance_function(phrase, phrase_to_find) / MAX_VALUE\n",
    "    return ordered_dict\n",
    "\n",
    "\n",
    "get_normalised_fitness(['2Q4HHHHOTJ', '2HHZQYUOTJ'], student_password)"
   ]
  },
  {
   "cell_type": "code",
   "execution_count": 10,
   "metadata": {},
   "outputs": [],
   "source": [
    "import random\n",
    "import string\n",
    "\n",
    "def init_population(population_size, password_length):\n",
    "    characters = string.ascii_uppercase + string.digits + \"_\"\n",
    "    population = []\n",
    "    for _ in range(population_size):\n",
    "        individual = ''.join(random.choice(characters) for _ in range(password_length))\n",
    "        population.append(individual)\n",
    "    return population\n",
    "\n"
   ]
  },
  {
   "cell_type": "code",
   "execution_count": 14,
   "metadata": {},
   "outputs": [
    {
     "name": "stdout",
     "output_type": "stream",
     "text": [
      "Found Password(s): ['8YLA8CUGJ0'] in Generation: 51\n"
     ]
    }
   ],
   "source": [
    "def init_population(pop_size, pass_length):\n",
    "    characters = string.ascii_uppercase + string.digits + \"_\"\n",
    "    population = [''.join(random.choice(characters) for _ in range(pass_length)) for _ in range(pop_size)]\n",
    "    return population\n",
    "\n",
    "def tournament_selc(population, fitness_scores, tournament_size=3):\n",
    "    selected = []\n",
    "    for _ in range(len(population)):\n",
    "        tournament = random.sample(population, tournament_size)\n",
    "        winner = max(tournament, key=lambda x: fitness_scores[x])\n",
    "        selected.append(winner)\n",
    "    return selected\n",
    "\n",
    "def crossover(p1, p2):\n",
    "    crossover_point = random.randint(1, len(p1) - 1)\n",
    "    offspring1 = p1[:crossover_point] + p2[crossover_point:]\n",
    "    offspring2 = p2[:crossover_point] + p1[crossover_point:]\n",
    "    return offspring1, offspring2\n",
    "\n",
    "def mutate(individual, mutation_rate=0.01):\n",
    "    characters = string.ascii_uppercase + string.digits + \"_\"\n",
    "    mutated_individual = ''.join(random.choice(characters) if random.random() < mutation_rate else char for char in individual)\n",
    "    return mutated_individual\n",
    "\n",
    "def update_population(selected, fitness_scores):\n",
    "    new_population = []\n",
    "    while len(new_population) < len(selected):\n",
    "        p1, p2 = random.choices(selected, k=2)\n",
    "        offspring1, offspring2 = crossover(p1, p2)\n",
    "        new_population.extend([mutate(offspring1), mutate(offspring2)])\n",
    "    return new_population[:len(selected)]\n",
    "\n",
    "def genetic_algorithm(student_password, pop_size=100, pass_length=10, max_generations=1000):\n",
    "    population = init_population(pop_size, pass_length)\n",
    "\n",
    "    for generation in range(max_generations):\n",
    "        fitness_scores = get_normalised_fitness(population, student_password)\n",
    "\n",
    "        if max(fitness_scores.values()) == 1:\n",
    "            return [candidate for candidate, fitness in fitness_scores.items() if fitness == 1], generation\n",
    "\n",
    "        selected = tournament_selc(population, fitness_scores)\n",
    "        population = update_population(selected, fitness_scores)\n",
    "\n",
    "    return None, max_generations\n",
    "\n",
    "found_passwords, generation = genetic_algorithm(student_password)\n",
    "print(f\"Found Password(s): {found_passwords} in Generation: {generation}\")\n"
   ]
  },
  {
   "cell_type": "code",
   "execution_count": 15,
   "metadata": {},
   "outputs": [
    {
     "name": "stdout",
     "output_type": "stream",
     "text": [
      "[198, 140, 164, 136, 153, 142, 70, 80, 63, 73]\n",
      "Average Number of Iterations: 121.9\n",
      "Standard Deviation: 44.46448020611508\n"
     ]
    }
   ],
   "source": [
    "import numpy as np\n",
    "\n",
    "\n",
    "iterations_needed = [genetic_algorithm(student_password)[1] for _ in range(10)]\n",
    "print(iterations_needed)\n",
    "average_iterations = np.mean(iterations_needed)\n",
    "std_dev_iterations = np.std(iterations_needed)\n",
    "\n",
    "print(f\"Average Number of Iterations: {average_iterations}\")\n",
    "print(f\"Standard Deviation: {std_dev_iterations}\")\n"
   ]
  },
  {
   "cell_type": "code",
   "execution_count": null,
   "metadata": {},
   "outputs": [],
   "source": []
  }
 ],
 "metadata": {
  "kernelspec": {
   "display_name": "Python 3",
   "language": "python",
   "name": "python3"
  },
  "language_info": {
   "codemirror_mode": {
    "name": "ipython",
    "version": 3
   },
   "file_extension": ".py",
   "mimetype": "text/x-python",
   "name": "python",
   "nbconvert_exporter": "python",
   "pygments_lexer": "ipython3",
   "version": "3.10.0"
  }
 },
 "nbformat": 4,
 "nbformat_minor": 2
}
